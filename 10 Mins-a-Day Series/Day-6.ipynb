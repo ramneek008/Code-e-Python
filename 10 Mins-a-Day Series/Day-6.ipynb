{
 "cells": [
  {
   "cell_type": "markdown",
   "metadata": {},
   "source": [
    "## Membership Operator"
   ]
  },
  {
   "cell_type": "code",
   "execution_count": 1,
   "metadata": {},
   "outputs": [
    {
     "name": "stdout",
     "output_type": "stream",
     "text": [
      "False\n",
      "True\n"
     ]
    }
   ],
   "source": [
    "lst = [1,2,3,4]\n",
    "print(5 in lst)\n",
    "print(1 in lst)"
   ]
  },
  {
   "cell_type": "code",
   "execution_count": 2,
   "metadata": {},
   "outputs": [
    {
     "name": "stdout",
     "output_type": "stream",
     "text": [
      "True\n"
     ]
    }
   ],
   "source": [
    "str = \"Python\"\n",
    "print('P' in str)"
   ]
  },
  {
   "cell_type": "markdown",
   "metadata": {},
   "source": [
    "## Loops "
   ]
  },
  {
   "cell_type": "code",
   "execution_count": 3,
   "metadata": {},
   "outputs": [
    {
     "name": "stdout",
     "output_type": "stream",
     "text": [
      "The count is 0\n",
      "The count is 1\n",
      "The count is 2\n",
      "The count is 3\n",
      "The count is 4\n",
      "The count is 5\n",
      "The count is 6\n",
      "The count is 7\n",
      "The count is 8\n",
      "The count is 9\n",
      "The count ended with: 10\n"
     ]
    }
   ],
   "source": [
    "count = 0\n",
    "while (count<10):\n",
    "    print(\"The count is\", count)\n",
    "    count = count + 1\n",
    "print(\"The count ended with:\", count)"
   ]
  },
  {
   "cell_type": "code",
   "execution_count": 4,
   "metadata": {},
   "outputs": [
    {
     "name": "stdout",
     "output_type": "stream",
     "text": [
      "Product = 120\n"
     ]
    }
   ],
   "source": [
    "tup = (1,2,3,4,5)\n",
    "prod = 1\n",
    "index  = 0\n",
    "\n",
    "while index<len(tup):\n",
    "    prod = prod * tup[index]\n",
    "    index += 1\n",
    "print('Product = {}'.format(prod))"
   ]
  },
  {
   "cell_type": "code",
   "execution_count": 5,
   "metadata": {},
   "outputs": [
    {
     "name": "stdout",
     "output_type": "stream",
     "text": [
      "Product = 120\n"
     ]
    }
   ],
   "source": [
    "tup = (1,2,3,4,5)\n",
    "\n",
    "prod = 1\n",
    "\n",
    "for i in tup:\n",
    "    prod *= i\n",
    "    \n",
    "print(\"Product = {}\".format(prod))"
   ]
  },
  {
   "cell_type": "code",
   "execution_count": 6,
   "metadata": {},
   "outputs": [
    {
     "name": "stdout",
     "output_type": "stream",
     "text": [
      "The count is: 1\n",
      "The count is: 2\n",
      "The count is: 3\n",
      "The count is: 4\n",
      "The count is: 5\n",
      "The count is: 6\n",
      "The count is: 7\n",
      "The count is: 8\n",
      "The count is: 9\n",
      "end\n"
     ]
    }
   ],
   "source": [
    "for count in range(1,10):\n",
    "    print(\"The count is:\",count)\n",
    "print(\"end\")"
   ]
  },
  {
   "cell_type": "code",
   "execution_count": 7,
   "metadata": {},
   "outputs": [
    {
     "name": "stdout",
     "output_type": "stream",
     "text": [
      "The count is: 1\n",
      "The count is: 3\n",
      "The count is: 5\n",
      "The count is: 7\n",
      "The count is: 9\n",
      "end\n"
     ]
    }
   ],
   "source": [
    "for count in range(1,10,2):\n",
    "    print(\"The count is:\",count)\n",
    "print(\"end\")"
   ]
  },
  {
   "cell_type": "code",
   "execution_count": 8,
   "metadata": {},
   "outputs": [
    {
     "name": "stdout",
     "output_type": "stream",
     "text": [
      "10\n",
      "20\n",
      "30\n",
      "40\n",
      "50\n",
      "60\n"
     ]
    }
   ],
   "source": [
    "lst = [10,20,30,40,50,60]\n",
    "for index in range(len(lst)):\n",
    "    print(lst[index])"
   ]
  },
  {
   "cell_type": "code",
   "execution_count": 9,
   "metadata": {},
   "outputs": [
    {
     "name": "stdout",
     "output_type": "stream",
     "text": [
      "You have exhausted the list\n",
      "Product = 120\n"
     ]
    }
   ],
   "source": [
    "# for..else\n",
    "\n",
    "tup = (1,2,3,4,5)\n",
    "\n",
    "prod = 1\n",
    "\n",
    "for item in tup:\n",
    "    prod *= item\n",
    "else:\n",
    "    print(\"You have exhausted the list\")\n",
    "    \n",
    "print(\"Product = {}\".format(prod))\n"
   ]
  },
  {
   "cell_type": "markdown",
   "metadata": {},
   "source": [
    "## Nested Loops"
   ]
  },
  {
   "cell_type": "code",
   "execution_count": 10,
   "metadata": {},
   "outputs": [
    {
     "name": "stdout",
     "output_type": "stream",
     "text": [
      "i: 0, j: 0\n",
      "i: 0, j: 1\n",
      "i: 0, j: 2\n",
      "i: 1, j: 0\n",
      "i: 1, j: 1\n",
      "i: 1, j: 2\n",
      "i: 2, j: 0\n",
      "i: 2, j: 1\n",
      "i: 2, j: 2\n",
      "i: 3, j: 0\n",
      "i: 3, j: 1\n",
      "i: 3, j: 2\n",
      "i: 4, j: 0\n",
      "i: 4, j: 1\n",
      "i: 4, j: 2\n",
      "i: 5, j: 0\n",
      "i: 5, j: 1\n",
      "i: 5, j: 2\n",
      "i: 6, j: 0\n",
      "i: 6, j: 1\n",
      "i: 6, j: 2\n",
      "i: 7, j: 0\n",
      "i: 7, j: 1\n",
      "i: 7, j: 2\n",
      "i: 8, j: 0\n",
      "i: 8, j: 1\n",
      "i: 8, j: 2\n",
      "i: 9, j: 0\n",
      "i: 9, j: 1\n",
      "i: 9, j: 2\n"
     ]
    }
   ],
   "source": [
    "i = 0\n",
    "\n",
    "while i<10:\n",
    "    j=0\n",
    "    while j<3:\n",
    "        print('i: {}, j: {}'.format(i,j))\n",
    "        j+=1\n",
    "    i+=1"
   ]
  },
  {
   "cell_type": "code",
   "execution_count": 11,
   "metadata": {},
   "outputs": [
    {
     "name": "stdout",
     "output_type": "stream",
     "text": [
      "Prime numbers between 1 and 11 are:\n",
      "2\n",
      "3\n",
      "5\n",
      "7\n",
      "11\n"
     ]
    }
   ],
   "source": [
    "num_1 = 1\n",
    "num_2 = 11\n",
    "\n",
    "print(\"Prime numbers between {} and {} are:\".format(num_1, num_2))\n",
    "\n",
    "for num in range(num_1, num_2 + 1):\n",
    "    if num>1:\n",
    "        isDivisible  = False\n",
    "        for index in range(2,num):\n",
    "            if num%index == 0:\n",
    "                isDivisible = True\n",
    "        if not isDivisible:\n",
    "            print(num)"
   ]
  },
  {
   "cell_type": "code",
   "execution_count": null,
   "metadata": {},
   "outputs": [],
   "source": []
  }
 ],
 "metadata": {
  "kernelspec": {
   "display_name": "Python 3",
   "language": "python",
   "name": "python3"
  },
  "language_info": {
   "codemirror_mode": {
    "name": "ipython",
    "version": 3
   },
   "file_extension": ".py",
   "mimetype": "text/x-python",
   "name": "python",
   "nbconvert_exporter": "python",
   "pygments_lexer": "ipython3",
   "version": "3.7.4"
  }
 },
 "nbformat": 4,
 "nbformat_minor": 2
}
