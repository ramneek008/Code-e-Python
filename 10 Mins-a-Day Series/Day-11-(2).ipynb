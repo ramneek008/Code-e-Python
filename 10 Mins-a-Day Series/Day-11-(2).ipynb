{
 "cells": [
  {
   "cell_type": "markdown",
   "metadata": {},
   "source": [
    "# Pandas"
   ]
  },
  {
   "cell_type": "code",
   "execution_count": 1,
   "metadata": {},
   "outputs": [],
   "source": [
    "import pandas as pd\n",
    "import numpy as np"
   ]
  },
  {
   "cell_type": "code",
   "execution_count": 2,
   "metadata": {},
   "outputs": [],
   "source": [
    "df = pd.DataFrame({\n",
    "    'col-1' : ['Item-1','Item-2','Item-3','Item-4'],\n",
    "    'col-2' : ['Gold','Silver','Bronze','Gold'],\n",
    "    'col-3' : [1,2,np.nan,4]\n",
    "})"
   ]
  },
  {
   "cell_type": "code",
   "execution_count": 4,
   "metadata": {},
   "outputs": [
    {
     "name": "stdout",
     "output_type": "stream",
     "text": [
      "    col-1   col-2  col-3\n",
      "0  Item-1    Gold    1.0\n",
      "1  Item-2  Silver    2.0\n",
      "2  Item-3  Bronze    NaN\n",
      "3  Item-4    Gold    4.0\n"
     ]
    }
   ],
   "source": [
    "print(df)"
   ]
  },
  {
   "cell_type": "markdown",
   "metadata": {},
   "source": [
    "### Creating a dataframe"
   ]
  },
  {
   "cell_type": "code",
   "execution_count": 5,
   "metadata": {},
   "outputs": [],
   "source": [
    "data = {'Name':['Tom','Jack','Steve','Ricky'], 'Age':[28,34,29,42]}"
   ]
  },
  {
   "cell_type": "code",
   "execution_count": 6,
   "metadata": {},
   "outputs": [],
   "source": [
    "df = pd.DataFrame(data)"
   ]
  },
  {
   "cell_type": "code",
   "execution_count": 7,
   "metadata": {},
   "outputs": [
    {
     "name": "stdout",
     "output_type": "stream",
     "text": [
      "    Name  Age\n",
      "0    Tom   28\n",
      "1   Jack   34\n",
      "2  Steve   29\n",
      "3  Ricky   42\n"
     ]
    }
   ],
   "source": [
    "print(df)"
   ]
  },
  {
   "cell_type": "code",
   "execution_count": 8,
   "metadata": {},
   "outputs": [
    {
     "name": "stdout",
     "output_type": "stream",
     "text": [
      "{'Name': ['Tom', 'Jack', 'Steve', 'Ricky'], 'Age': [28, 34, 29, 42]}\n"
     ]
    }
   ],
   "source": [
    "print(data)"
   ]
  },
  {
   "cell_type": "code",
   "execution_count": 10,
   "metadata": {},
   "outputs": [
    {
     "name": "stdout",
     "output_type": "stream",
     "text": [
      "    Name  Age  Rating\n",
      "0    Tom   28    4.23\n",
      "1   Jack   34    4.10\n",
      "2  Steve   29    3.40\n",
      "3  Ricky   42    4.50\n",
      "4    Vin   32    5.20\n",
      "5  James   43    3.40\n",
      "6  Smith   45    3.20\n"
     ]
    }
   ],
   "source": [
    "# Creating dictionary of series\n",
    "dict1 ={'Name':pd.Series(['Tom','Jack','Steve','Ricky','Vin','James','Smith']),\n",
    "       'Age':pd.Series([28,34,29,42,32,43,45]),\n",
    "       'Rating':pd.Series([4.23,4.1,3.4,4.5,5.2,3.4,3.2])}\n",
    "df = pd.DataFrame(dict1)\n",
    "print(df)"
   ]
  },
  {
   "cell_type": "code",
   "execution_count": 11,
   "metadata": {},
   "outputs": [
    {
     "name": "stdout",
     "output_type": "stream",
     "text": [
      "           0     1      2      3    4      5      6\n",
      "Name     Tom  Jack  Steve  Ricky  Vin  James  Smith\n",
      "Age       28    34     29     42   32     43     45\n",
      "Rating  4.23   4.1    3.4    4.5  5.2    3.4    3.2\n"
     ]
    }
   ],
   "source": [
    "# Transpose\n",
    "print(df.T)"
   ]
  },
  {
   "cell_type": "code",
   "execution_count": 12,
   "metadata": {},
   "outputs": [
    {
     "name": "stdout",
     "output_type": "stream",
     "text": [
      "[RangeIndex(start=0, stop=7, step=1), Index(['Name', 'Age', 'Rating'], dtype='object')]\n"
     ]
    }
   ],
   "source": [
    "# Axes\n",
    "print(df.axes)"
   ]
  },
  {
   "cell_type": "code",
   "execution_count": 13,
   "metadata": {},
   "outputs": [
    {
     "name": "stdout",
     "output_type": "stream",
     "text": [
      "Name       object\n",
      "Age         int64\n",
      "Rating    float64\n",
      "dtype: object\n"
     ]
    }
   ],
   "source": [
    "# dtypes\n",
    "print(df.dtypes)"
   ]
  },
  {
   "cell_type": "code",
   "execution_count": 14,
   "metadata": {},
   "outputs": [
    {
     "name": "stdout",
     "output_type": "stream",
     "text": [
      "(7, 3)\n"
     ]
    }
   ],
   "source": [
    "# shape\n",
    "print(df.shape)"
   ]
  },
  {
   "cell_type": "code",
   "execution_count": 15,
   "metadata": {},
   "outputs": [
    {
     "name": "stdout",
     "output_type": "stream",
     "text": [
      "[['Tom' 28 4.23]\n",
      " ['Jack' 34 4.1]\n",
      " ['Steve' 29 3.4]\n",
      " ['Ricky' 42 4.5]\n",
      " ['Vin' 32 5.2]\n",
      " ['James' 43 3.4]\n",
      " ['Smith' 45 3.2]]\n"
     ]
    }
   ],
   "source": [
    "# values\n",
    "print(df.values)"
   ]
  },
  {
   "cell_type": "code",
   "execution_count": 16,
   "metadata": {},
   "outputs": [
    {
     "name": "stdout",
     "output_type": "stream",
     "text": [
      "    Name  Age  Rating\n",
      "0    Tom   28    4.23\n",
      "1   Jack   34    4.10\n",
      "2  Steve   29    3.40\n",
      "3  Ricky   42    4.50\n",
      "4    Vin   32    5.20\n"
     ]
    }
   ],
   "source": [
    "# head \n",
    "print(df.head())"
   ]
  },
  {
   "cell_type": "code",
   "execution_count": 17,
   "metadata": {},
   "outputs": [
    {
     "name": "stdout",
     "output_type": "stream",
     "text": [
      "   Name  Age  Rating\n",
      "0   Tom   28    4.23\n",
      "1  Jack   34    4.10\n"
     ]
    }
   ],
   "source": [
    "print(df.head(2))"
   ]
  },
  {
   "cell_type": "code",
   "execution_count": 18,
   "metadata": {},
   "outputs": [
    {
     "name": "stdout",
     "output_type": "stream",
     "text": [
      "    Name  Age  Rating\n",
      "2  Steve   29     3.4\n",
      "3  Ricky   42     4.5\n",
      "4    Vin   32     5.2\n",
      "5  James   43     3.4\n",
      "6  Smith   45     3.2\n"
     ]
    }
   ],
   "source": [
    "# tail\n",
    "\n",
    "print(df.tail())"
   ]
  },
  {
   "cell_type": "code",
   "execution_count": 19,
   "metadata": {},
   "outputs": [
    {
     "name": "stdout",
     "output_type": "stream",
     "text": [
      "    Name  Age  Rating\n",
      "5  James   43     3.4\n",
      "6  Smith   45     3.2\n"
     ]
    }
   ],
   "source": [
    "print(df.tail(2))"
   ]
  },
  {
   "cell_type": "markdown",
   "metadata": {},
   "source": [
    "## Statistics"
   ]
  },
  {
   "cell_type": "code",
   "execution_count": 20,
   "metadata": {},
   "outputs": [
    {
     "name": "stdout",
     "output_type": "stream",
     "text": [
      "    Name  Age  Rating\n",
      "0    Tom   28    4.23\n",
      "1   Jack   34    4.10\n",
      "2  Steve   29    3.40\n",
      "3  Ricky   42    4.50\n",
      "4    Vin   32    5.20\n",
      "5  James   43    3.40\n",
      "6  Smith   45    3.20\n"
     ]
    }
   ],
   "source": [
    "print(df)"
   ]
  },
  {
   "cell_type": "code",
   "execution_count": 21,
   "metadata": {},
   "outputs": [
    {
     "name": "stdout",
     "output_type": "stream",
     "text": [
      "Name      TomJackSteveRickyVinJamesSmith\n",
      "Age                                  253\n",
      "Rating                             28.03\n",
      "dtype: object\n"
     ]
    }
   ],
   "source": [
    "print(df.sum())"
   ]
  },
  {
   "cell_type": "code",
   "execution_count": 22,
   "metadata": {},
   "outputs": [
    {
     "name": "stdout",
     "output_type": "stream",
     "text": [
      "0    32.23\n",
      "1    38.10\n",
      "2    32.40\n",
      "3    46.50\n",
      "4    37.20\n",
      "5    46.40\n",
      "6    48.20\n",
      "dtype: float64\n"
     ]
    }
   ],
   "source": [
    "print(df.sum(1))"
   ]
  },
  {
   "cell_type": "code",
   "execution_count": 23,
   "metadata": {},
   "outputs": [
    {
     "name": "stdout",
     "output_type": "stream",
     "text": [
      "Age       36.142857\n",
      "Rating     4.004286\n",
      "dtype: float64\n"
     ]
    }
   ],
   "source": [
    "# mean()\n",
    "print(df.mean())"
   ]
  },
  {
   "cell_type": "code",
   "execution_count": 24,
   "metadata": {},
   "outputs": [
    {
     "name": "stdout",
     "output_type": "stream",
     "text": [
      "Age       7.057586\n",
      "Rating    0.720274\n",
      "dtype: float64\n"
     ]
    }
   ],
   "source": [
    "# std()\n",
    "print(df.std())"
   ]
  },
  {
   "cell_type": "code",
   "execution_count": 25,
   "metadata": {},
   "outputs": [
    {
     "name": "stdout",
     "output_type": "stream",
     "text": [
      "    Name  Age  Rating\n",
      "0    Tom   28    4.23\n",
      "1   Jack   34    4.10\n",
      "2  Steve   29    3.40\n",
      "3  Ricky   42    4.50\n",
      "4    Vin   32    5.20\n",
      "5  James   43    3.40\n",
      "6  Smith   45    3.20\n"
     ]
    }
   ],
   "source": [
    "print(df)"
   ]
  },
  {
   "cell_type": "code",
   "execution_count": 26,
   "metadata": {},
   "outputs": [
    {
     "name": "stdout",
     "output_type": "stream",
     "text": [
      "             Age    Rating\n",
      "count   7.000000  7.000000\n",
      "mean   36.142857  4.004286\n",
      "std     7.057586  0.720274\n",
      "min    28.000000  3.200000\n",
      "25%    30.500000  3.400000\n",
      "50%    34.000000  4.100000\n",
      "75%    42.500000  4.365000\n",
      "max    45.000000  5.200000\n"
     ]
    }
   ],
   "source": [
    "# describe() -> summarize the data\n",
    "print(df.describe())"
   ]
  },
  {
   "cell_type": "code",
   "execution_count": 27,
   "metadata": {},
   "outputs": [
    {
     "name": "stdout",
     "output_type": "stream",
     "text": [
      "       Name\n",
      "count     7\n",
      "unique    7\n",
      "top     Tom\n",
      "freq      1\n"
     ]
    }
   ],
   "source": [
    "# include object, number, all\n",
    "print(df.describe(include = ['object']))"
   ]
  },
  {
   "cell_type": "code",
   "execution_count": 28,
   "metadata": {},
   "outputs": [
    {
     "name": "stdout",
     "output_type": "stream",
     "text": [
      "             Age    Rating\n",
      "count   7.000000  7.000000\n",
      "mean   36.142857  4.004286\n",
      "std     7.057586  0.720274\n",
      "min    28.000000  3.200000\n",
      "25%    30.500000  3.400000\n",
      "50%    34.000000  4.100000\n",
      "75%    42.500000  4.365000\n",
      "max    45.000000  5.200000\n"
     ]
    }
   ],
   "source": [
    "print(df.describe(include = ['number']))"
   ]
  },
  {
   "cell_type": "code",
   "execution_count": 30,
   "metadata": {},
   "outputs": [
    {
     "name": "stdout",
     "output_type": "stream",
     "text": [
      "       Name        Age    Rating\n",
      "count     7   7.000000  7.000000\n",
      "unique    7        NaN       NaN\n",
      "top     Tom        NaN       NaN\n",
      "freq      1        NaN       NaN\n",
      "mean    NaN  36.142857  4.004286\n",
      "std     NaN   7.057586  0.720274\n",
      "min     NaN  28.000000  3.200000\n",
      "25%     NaN  30.500000  3.400000\n",
      "50%     NaN  34.000000  4.100000\n",
      "75%     NaN  42.500000  4.365000\n",
      "max     NaN  45.000000  5.200000\n"
     ]
    }
   ],
   "source": [
    "print(df.describe(include = 'all'))"
   ]
  },
  {
   "cell_type": "markdown",
   "metadata": {},
   "source": [
    "## Series Data Structure"
   ]
  },
  {
   "cell_type": "code",
   "execution_count": 32,
   "metadata": {},
   "outputs": [
    {
     "name": "stdout",
     "output_type": "stream",
     "text": [
      "Series([], dtype: float64)\n"
     ]
    }
   ],
   "source": [
    "s = pd.Series()\n",
    "print(s)"
   ]
  },
  {
   "cell_type": "code",
   "execution_count": 33,
   "metadata": {},
   "outputs": [
    {
     "name": "stdout",
     "output_type": "stream",
     "text": [
      "0    a\n",
      "1    b\n",
      "2    c\n",
      "3    d\n",
      "dtype: object\n"
     ]
    }
   ],
   "source": [
    "# creating series from ndarray\n",
    "data = np.array(['a','b','c','d'])\n",
    "s = pd.Series(data)\n",
    "print(s)"
   ]
  },
  {
   "cell_type": "code",
   "execution_count": 34,
   "metadata": {},
   "outputs": [
    {
     "name": "stdout",
     "output_type": "stream",
     "text": [
      "a    1.0\n",
      "b    2.0\n",
      "c    3.0\n",
      "dtype: float64\n"
     ]
    }
   ],
   "source": [
    "# creating series from dict\n",
    "\n",
    "data = {'a':1.,'b':2.,'c':3.}\n",
    "s = pd.Series(data)\n",
    "print(s)"
   ]
  },
  {
   "cell_type": "code",
   "execution_count": 37,
   "metadata": {},
   "outputs": [
    {
     "name": "stdout",
     "output_type": "stream",
     "text": [
      "a    1\n",
      "b    2\n",
      "c    3\n",
      "d    4\n",
      "e    5\n",
      "dtype: int64\n"
     ]
    }
   ],
   "source": [
    "s = pd.Series([1,2,3,4,5], index = ['a','b','c','d','e'])\n",
    "print(s)"
   ]
  },
  {
   "cell_type": "code",
   "execution_count": 38,
   "metadata": {},
   "outputs": [
    {
     "name": "stdout",
     "output_type": "stream",
     "text": [
      "1\n"
     ]
    }
   ],
   "source": [
    "print(s['a'])"
   ]
  },
  {
   "cell_type": "code",
   "execution_count": 39,
   "metadata": {},
   "outputs": [
    {
     "name": "stdout",
     "output_type": "stream",
     "text": [
      "a    1\n",
      "b    2\n",
      "e    5\n",
      "dtype: int64\n"
     ]
    }
   ],
   "source": [
    "# retreiving multiple elements\n",
    "\n",
    "print(s[['a','b','e']])"
   ]
  },
  {
   "cell_type": "code",
   "execution_count": null,
   "metadata": {},
   "outputs": [],
   "source": []
  }
 ],
 "metadata": {
  "kernelspec": {
   "display_name": "Python 3",
   "language": "python",
   "name": "python3"
  },
  "language_info": {
   "codemirror_mode": {
    "name": "ipython",
    "version": 3
   },
   "file_extension": ".py",
   "mimetype": "text/x-python",
   "name": "python",
   "nbconvert_exporter": "python",
   "pygments_lexer": "ipython3",
   "version": "3.7.4"
  }
 },
 "nbformat": 4,
 "nbformat_minor": 2
}
