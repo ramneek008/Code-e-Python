{
 "cells": [
  {
   "cell_type": "markdown",
   "metadata": {},
   "source": [
    "Ask user to enter age, sex (M or F), marital status (Y or N) and then using following rules print their place of service. \n",
    "\n",
    "a) if employee is female, then she will work only in urban areas. \n",
    "\n",
    "b) if employee is a male and age is in between 20 to 40 then he may work in anywhere \n",
    "\n",
    "c) if employee is male and age is in between 40 t0 60 then he will work in urban areas only. \n",
    "\n",
    "d) And any other input of age should print \"ERROR\"."
   ]
  },
  {
   "cell_type": "code",
   "execution_count": 2,
   "metadata": {},
   "outputs": [
    {
     "name": "stdout",
     "output_type": "stream",
     "text": [
      "Age: 21\n",
      "Sex: M\n",
      "Marital Status: Y\n",
      "Anywhere\n"
     ]
    }
   ],
   "source": [
    "age = int(input(\"Age: \"))\n",
    "sex = input(\"Sex: \")\n",
    "mar = input(\"Marital Status: \")\n",
    "if sex=='F':\n",
    "    print(\"Urban areas\")\n",
    "else:\n",
    "    if 20<age<40:\n",
    "        print('Anywhere')\n",
    "    elif 40<age<60:\n",
    "        print('Urban areas')\n",
    "    else:\n",
    "        print(\"Error\")\n"
   ]
  },
  {
   "cell_type": "code",
   "execution_count": null,
   "metadata": {},
   "outputs": [],
   "source": []
  }
 ],
 "metadata": {
  "kernelspec": {
   "display_name": "Python 3",
   "language": "python",
   "name": "python3"
  },
  "language_info": {
   "codemirror_mode": {
    "name": "ipython",
    "version": 3
   },
   "file_extension": ".py",
   "mimetype": "text/x-python",
   "name": "python",
   "nbconvert_exporter": "python",
   "pygments_lexer": "ipython3",
   "version": "3.7.4"
  }
 },
 "nbformat": 4,
 "nbformat_minor": 2
}
