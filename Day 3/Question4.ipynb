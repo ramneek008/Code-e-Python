{
 "cells": [
  {
   "cell_type": "markdown",
   "metadata": {},
   "source": [
    "From a list containing ints, strings and floats, make three lists to store them separately.\n"
   ]
  },
  {
   "cell_type": "code",
   "execution_count": 2,
   "metadata": {},
   "outputs": [
    {
     "name": "stdout",
     "output_type": "stream",
     "text": [
      "[1, 2, 5]\n",
      "[3.5, 7.4]\n",
      "['great', 'play']\n"
     ]
    }
   ],
   "source": [
    "list1 = [1,2,'great',3.5,'play',5,7.4]\n",
    "list_int=[]\n",
    "list_float=[]\n",
    "list_str=[]\n",
    "for i in range(len(list1)):\n",
    "    if(isinstance(list1[i], int)):\n",
    "        list_int.append(list1[i])\n",
    "    elif(isinstance(list1[i], float)):\n",
    "        list_float.append(list1[i])\n",
    "    elif(isinstance(list1[i], str)):\n",
    "        list_str.append(list1[i])\n",
    "print('List of integer type:',list_int)\n",
    "print('List of float type:',list_float)\n",
    "print('List of string type:',list_str)"
   ]
  },
  {
   "cell_type": "code",
   "execution_count": null,
   "metadata": {},
   "outputs": [],
   "source": []
  }
 ],
 "metadata": {
  "kernelspec": {
   "display_name": "Python 3",
   "language": "python",
   "name": "python3"
  },
  "language_info": {
   "codemirror_mode": {
    "name": "ipython",
    "version": 3
   },
   "file_extension": ".py",
   "mimetype": "text/x-python",
   "name": "python",
   "nbconvert_exporter": "python",
   "pygments_lexer": "ipython3",
   "version": "3.7.4"
  }
 },
 "nbformat": 4,
 "nbformat_minor": 2
}
