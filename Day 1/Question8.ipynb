{
 "cells": [
  {
   "cell_type": "markdown",
   "metadata": {},
   "source": [
    "Store your name, roll number, branch and year in\n",
    "different variables and generate email ID similar\n",
    "to your Chitkara ID using Python. Store it in\n",
    "different variable and then print it."
   ]
  },
  {
   "cell_type": "code",
   "execution_count": null,
   "metadata": {},
   "outputs": [],
   "source": [
    "name = input(\"Enter your name: \")\n",
    "roll_no = input(\"Enter your roll no.: \")\n",
    "branch = input(\"Enter your branch: \")\n",
    "year = input(\"Enter your admission year: \")\n",
    "email = name + roll_no[6:] + '.' + branch + year[2:4] +'@chitkara.edu.in'\n",
    "print(\"Your email id is:\",email)"
   ]
  },
  {
   "cell_type": "code",
   "execution_count": null,
   "metadata": {},
   "outputs": [],
   "source": []
  }
 ],
 "metadata": {
  "kernelspec": {
   "display_name": "Python 3",
   "language": "python",
   "name": "python3"
  },
  "language_info": {
   "codemirror_mode": {
    "name": "ipython",
    "version": 3
   },
   "file_extension": ".py",
   "mimetype": "text/x-python",
   "name": "python",
   "nbconvert_exporter": "python",
   "pygments_lexer": "ipython3",
   "version": "3.7.4"
  }
 },
 "nbformat": 4,
 "nbformat_minor": 2
}
