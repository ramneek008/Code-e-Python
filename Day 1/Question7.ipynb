{
 "cells": [
  {
   "cell_type": "markdown",
   "metadata": {},
   "source": [
    "Separate the username from email id and store in a\n",
    "different variable.\n",
    "\n",
    "a. Print that variable and then,\n",
    "\n",
    "b. Sort the newly created variable in ascending\n",
    "order of their alphabets and then print."
   ]
  },
  {
   "cell_type": "code",
   "execution_count": null,
   "metadata": {},
   "outputs": [],
   "source": [
    "email = input(\"Enter email: \")\n",
    "pos = email.find('@')\n",
    "username = email[:pos]\n",
    "print(\"Username:\",username)\n",
    "username = sorted(username)\n",
    "username = \"\".join(username)\n",
    "print(\"Sorted:\",username)"
   ]
  },
  {
   "cell_type": "code",
   "execution_count": null,
   "metadata": {},
   "outputs": [],
   "source": []
  }
 ],
 "metadata": {
  "kernelspec": {
   "display_name": "Python 3",
   "language": "python",
   "name": "python3"
  },
  "language_info": {
   "codemirror_mode": {
    "name": "ipython",
    "version": 3
   },
   "file_extension": ".py",
   "mimetype": "text/x-python",
   "name": "python",
   "nbconvert_exporter": "python",
   "pygments_lexer": "ipython3",
   "version": "3.7.4"
  }
 },
 "nbformat": 4,
 "nbformat_minor": 2
}
