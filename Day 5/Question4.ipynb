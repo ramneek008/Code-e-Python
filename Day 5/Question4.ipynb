{
 "cells": [
  {
   "cell_type": "markdown",
   "metadata": {},
   "source": [
    "A shop will give discount of 10% if the cost of purchased quantity is more than 1000.Ask user for quantity. Assume one unit will cost 100. Judge and print total cost for user.\n"
   ]
  },
  {
   "cell_type": "code",
   "execution_count": 2,
   "metadata": {},
   "outputs": [
    {
     "name": "stdout",
     "output_type": "stream",
     "text": [
      "Enter quantity: 13\n",
      "1170.0\n"
     ]
    }
   ],
   "source": [
    "cost = 100\n",
    "qty = int(input(\"Enter quantity: \"))\n",
    "total_cost = qty*cost\n",
    "if total_cost>1000:\n",
    "    total_cost = total_cost - total_cost*0.1\n",
    "print(\"Total cost: \",total_cost)"
   ]
  },
  {
   "cell_type": "code",
   "execution_count": null,
   "metadata": {},
   "outputs": [],
   "source": []
  }
 ],
 "metadata": {
  "kernelspec": {
   "display_name": "Python 3",
   "language": "python",
   "name": "python3"
  },
  "language_info": {
   "codemirror_mode": {
    "name": "ipython",
    "version": 3
   },
   "file_extension": ".py",
   "mimetype": "text/x-python",
   "name": "python",
   "nbconvert_exporter": "python",
   "pygments_lexer": "ipython3",
   "version": "3.7.4"
  }
 },
 "nbformat": 4,
 "nbformat_minor": 2
}
