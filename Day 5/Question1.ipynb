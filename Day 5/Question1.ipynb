{
 "cells": [
  {
   "cell_type": "markdown",
   "metadata": {},
   "source": [
    "Write a function to calculate power of a number raised to other ( a^b) using recursion.\n"
   ]
  },
  {
   "cell_type": "code",
   "execution_count": 5,
   "metadata": {},
   "outputs": [
    {
     "name": "stdout",
     "output_type": "stream",
     "text": [
      "Enter base: 2\n",
      "Enter power: 4\n",
      "2^4=16\n"
     ]
    }
   ],
   "source": [
    "def power(a,b):\n",
    "    if b==1:\n",
    "        return a;\n",
    "    else:\n",
    "        return a*power(a,b-1)\n",
    "    \n",
    "a = int(input(\"Enter base: \"))\n",
    "b = int(input(\"Enter power: \"))\n",
    "c = power(a,b)\n",
    "print(\"{}^{}={}\".format(a,b,c))\n",
    "\n"
   ]
  },
  {
   "cell_type": "code",
   "execution_count": null,
   "metadata": {},
   "outputs": [],
   "source": []
  }
 ],
 "metadata": {
  "kernelspec": {
   "display_name": "Python 3",
   "language": "python",
   "name": "python3"
  },
  "language_info": {
   "codemirror_mode": {
    "name": "ipython",
    "version": 3
   },
   "file_extension": ".py",
   "mimetype": "text/x-python",
   "name": "python",
   "nbconvert_exporter": "python",
   "pygments_lexer": "ipython3",
   "version": "3.7.4"
  }
 },
 "nbformat": 4,
 "nbformat_minor": 2
}
