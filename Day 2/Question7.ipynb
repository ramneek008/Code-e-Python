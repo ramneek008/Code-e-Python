{
 "cells": [
  {
   "cell_type": "markdown",
   "metadata": {},
   "source": [
    "Given list: list1=[1,3, [7,4] ,6,8,9]\n",
    "1. Make a deepcopy of the above list in a new variable and then print the list, \n",
    "2. Modify the first element of [7,4] in list1. \n",
    "3. Compare with list1. Is It equal or not? Write Yes or No. \n",
    "4. Make a shallow copy of the list1(reuse the provided list values) in a new variable and then print the list, \n",
    "5. Modify the element at index 4 and the print the new list, \n",
    "6. Compare with list1. Is it equal or not? Write Yes or No.\n"
   ]
  },
  {
   "cell_type": "code",
   "execution_count": 4,
   "metadata": {},
   "outputs": [
    {
     "name": "stdout",
     "output_type": "stream",
     "text": [
      "Deep copy: [1, 3, [7, 4], 6, 8, 9]\n",
      "Yes\n",
      "Shallow copy: [1, 3, [7, 4], 6, 16, 9]\n",
      "No\n"
     ]
    }
   ],
   "source": [
    "list1 = [1,3,[7,4],6,8,9]\n",
    "deepcpy = list1\n",
    "print(\"Deep copy:\",deepcpy)\n",
    "list1[2][0] = 12\n",
    "if(list1 == deepcpy):\n",
    "    print('Yes')\n",
    "else:\n",
    "    print(\"No\")\n",
    "\n",
    "list1 = [1,3,[7,4],6,8,9]\n",
    "shallowcpy = list1.copy()\n",
    "shallowcpy[4] = 16\n",
    "print(\"Shallow copy:\",shallowcpy)\n",
    "if(list1 == shallowcpy):\n",
    "    print('Yes')\n",
    "else:\n",
    "    print('No')"
   ]
  },
  {
   "cell_type": "code",
   "execution_count": null,
   "metadata": {},
   "outputs": [],
   "source": []
  }
 ],
 "metadata": {
  "kernelspec": {
   "display_name": "Python 3",
   "language": "python",
   "name": "python3"
  },
  "language_info": {
   "codemirror_mode": {
    "name": "ipython",
    "version": 3
   },
   "file_extension": ".py",
   "mimetype": "text/x-python",
   "name": "python",
   "nbconvert_exporter": "python",
   "pygments_lexer": "ipython3",
   "version": "3.7.4"
  }
 },
 "nbformat": 4,
 "nbformat_minor": 2
}
