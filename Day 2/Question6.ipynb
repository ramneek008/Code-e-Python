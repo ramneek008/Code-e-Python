{
 "cells": [
  {
   "cell_type": "markdown",
   "metadata": {},
   "source": [
    "Given List: my_list = [‘p’ , ’r’ , ’o’ , ‘b’ , ‘l’ , ‘e’ , ‘m’] using slicing\n",
    "1. Print first 5 elements. \n",
    "2. Print last 5 elements. \n",
    "3. Print all elements except first 5. \n",
    "4. Print all elements except last 5.\n"
   ]
  },
  {
   "cell_type": "code",
   "execution_count": 4,
   "metadata": {},
   "outputs": [
    {
     "name": "stdout",
     "output_type": "stream",
     "text": [
      "first 5 elements: ['p', 'r', 'o', 'b', 'l']\n",
      "last 5 elements: ['o', 'b', 'l', 'e', 'm']\n",
      "elements except first 5: ['e', 'm']\n",
      "elements except last 5: ['p', 'r']\n"
     ]
    }
   ],
   "source": [
    "my_list = ['p','r','o','b','l','e','m']\n",
    "print(\"first 5 elements:\",my_list[:5])\n",
    "print(\"last 5 elements:\",my_list[-5:])\n",
    "print(\"elements except first 5:\",my_list[5:])\n",
    "print(\"elements except last 5:\",my_list[:-5])"
   ]
  },
  {
   "cell_type": "code",
   "execution_count": null,
   "metadata": {},
   "outputs": [],
   "source": []
  }
 ],
 "metadata": {
  "kernelspec": {
   "display_name": "Python 3",
   "language": "python",
   "name": "python3"
  },
  "language_info": {
   "codemirror_mode": {
    "name": "ipython",
    "version": 3
   },
   "file_extension": ".py",
   "mimetype": "text/x-python",
   "name": "python",
   "nbconvert_exporter": "python",
   "pygments_lexer": "ipython3",
   "version": "3.7.4"
  }
 },
 "nbformat": 4,
 "nbformat_minor": 2
}
