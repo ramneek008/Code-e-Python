{
 "cells": [
  {
   "cell_type": "markdown",
   "metadata": {},
   "source": [
    "Create a user defined tuple. \n",
    "1. Find largest and smallest elements of a tuples and then print it. \n",
    "2. Print the tuple in reverse order. \n",
    "3. Identify length of the tuple and then print it. \n",
    "4. Slice the tuple with jumping every 3 items and then print.\n"
   ]
  },
  {
   "cell_type": "code",
   "execution_count": 9,
   "metadata": {},
   "outputs": [
    {
     "name": "stdout",
     "output_type": "stream",
     "text": [
      "Enter something:24353424\n",
      "Tuple:  ('2', '4', '3', '5', '3', '4', '2', '4')\n",
      "Largest element: 5\n",
      "Smallest element: 2\n",
      "Reversed tuple: ('4', '2', '4', '3', '5', '3', '4', '2')\n",
      "Length: 8\n",
      "Sliced Tuple: ('2', '3')\n"
     ]
    }
   ],
   "source": [
    "tup = tuple(input(\"Enter something:\"))\n",
    "print(\"Tuple:\",tup)\n",
    "largest = max(tup)\n",
    "smallest = min(tup)\n",
    "print(\"Largest element:\",largest)\n",
    "print(\"Smallest element:\",smallest)\n",
    "print(\"Reversed tuple:\",tup[::-1])\n",
    "length = len(tup)\n",
    "print(\"Length:\",length)\n",
    "print(\"Sliced Tuple:\",tup[::4])"
   ]
  },
  {
   "cell_type": "code",
   "execution_count": null,
   "metadata": {},
   "outputs": [],
   "source": []
  }
 ],
 "metadata": {
  "kernelspec": {
   "display_name": "Python 3",
   "language": "python",
   "name": "python3"
  },
  "language_info": {
   "codemirror_mode": {
    "name": "ipython",
    "version": 3
   },
   "file_extension": ".py",
   "mimetype": "text/x-python",
   "name": "python",
   "nbconvert_exporter": "python",
   "pygments_lexer": "ipython3",
   "version": "3.7.4"
  }
 },
 "nbformat": 4,
 "nbformat_minor": 2
}
